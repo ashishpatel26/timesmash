{
 "cells": [
  {
   "cell_type": "code",
   "execution_count": 1,
   "metadata": {},
   "outputs": [
    {
     "name": "stdout",
     "output_type": "stream",
     "text": [
      "random forest_score: 1.0\n"
     ]
    }
   ],
   "source": [
    "import pandas as pd\n",
    "import sys\n",
    "sys.path.append('../')\n",
    "from timesmash import SymbolicDerivative\n",
    "from sklearn.metrics import accuracy_score\n",
    "from sklearn.ensemble import RandomForestClassifier\n",
    "\n",
    "train_path= './Trace/Trace_TRAIN.tsv'\n",
    "test_path= './Trace/Trace_TEST.tsv'\n",
    "train = pd.read_csv(train_path, header=None, delim_whitespace=True, na_values='NaN')\n",
    "test = pd.read_csv(test_path, header=None, delim_whitespace=True, na_values='NaN')\n",
    "\n",
    "train_label = pd.DataFrame(train[0].copy())\n",
    "del train[0]\n",
    "test_label = pd.DataFrame(test[0].copy())\n",
    "del test[0]\n",
    "\n",
    "clast = SymbolicDerivative()\n",
    "train_feature, test_feature=clast.fit_transform(train=train, test=test, label=train_label)\n",
    "\n",
    "clf = RandomForestClassifier(random_state=1)\n",
    "clf.fit(train_feature,train_label.values.ravel())\n",
    "\n",
    "accur = accuracy_score(test_label, clf.predict(test_feature))\n",
    "print(\"random forest_score:\", accur)"
   ]
  },
  {
   "cell_type": "code",
   "execution_count": null,
   "metadata": {},
   "outputs": [],
   "source": []
  }
 ],
 "metadata": {
  "kernelspec": {
   "display_name": "Python 3",
   "language": "python",
   "name": "python3"
  },
  "language_info": {
   "codemirror_mode": {
    "name": "ipython",
    "version": 3
   },
   "file_extension": ".py",
   "mimetype": "text/x-python",
   "name": "python",
   "nbconvert_exporter": "python",
   "pygments_lexer": "ipython3",
   "version": "3.6.5"
  }
 },
 "nbformat": 4,
 "nbformat_minor": 2
}
