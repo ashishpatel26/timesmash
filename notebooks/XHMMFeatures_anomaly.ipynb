{
 "cells": [
  {
   "cell_type": "code",
   "execution_count": null,
   "id": "consolidated-bolivia",
   "metadata": {},
   "outputs": [],
   "source": [
    "import pandas as pd\n",
    "from timesmash import XHMMFeatures\n",
    "from sklearn.neighbors import LocalOutlierFactor\n",
    "\n",
    "# creating multichannel data\n",
    "channel1_train = pd.DataFrame([[0,1,0,1,0,1,0,1,0,1],[1,0,1,0,1,0,1,0,1,0]], index=['person_1', 'person_2'])\n",
    "channel2_train = pd.DataFrame([[0,1,0,1,0,1,0,1,0,1],[1,0,1,0,1,0,1,0,1,0]], index=['person_1', 'person_2'])\n",
    "labels = pd.DataFrame([1,1], index=['person_1', 'person_2'])\n",
    " \n",
    "# transforming multi channel time series into features\n",
    "alg = XHMMFeatures(n_quantizations=1)\n",
    "features_train = alg.fit_transform([channel1_train,channel2_train], labels)\n",
    "\n",
    "#using Outlier detector for anomaly detection\n",
    "clf = LocalOutlierFactor(novelty=True)  \n",
    "clf.fit(features_train)\n",
    "        \n",
    "channel1_test = pd.DataFrame([[0,1,0,1,0,1,0,1,0,1],[1,0,1,0,1,0,1,0,1]], index=['person_test_1', 'person_test_2'])\n",
    "channel2_test= pd.DataFrame([[0,1,0,1,0,1,0,1,0,1],[0,1,0,1,0,1,0,1,0]], index=['person_test_1', 'person_test_2'])\n",
    "\n",
    "features_test = alg.transform([channel1_test,channel2_test])\n",
    "print(clf.predict(features_test))"
   ]
  }
 ],
 "metadata": {
  "kernelspec": {
   "display_name": "Python 3",
   "language": "python",
   "name": "python3"
  },
  "language_info": {
   "codemirror_mode": {
    "name": "ipython",
    "version": 3
   },
   "file_extension": ".py",
   "mimetype": "text/x-python",
   "name": "python",
   "nbconvert_exporter": "python",
   "pygments_lexer": "ipython3",
   "version": "3.8.5"
  }
 },
 "nbformat": 4,
 "nbformat_minor": 5
}
