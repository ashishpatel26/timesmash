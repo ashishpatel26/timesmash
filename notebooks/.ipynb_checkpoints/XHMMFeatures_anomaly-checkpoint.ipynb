{
 "cells": [
  {
   "cell_type": "code",
   "execution_count": 1,
   "metadata": {},
   "outputs": [
    {
     "name": "stderr",
     "output_type": "stream",
     "text": [
      "/home/ishanu/.local/lib/python3.6/site-packages/sklearn/neighbors/_lof.py:277: UserWarning: n_neighbors (20) is greater than the total number of samples (2). n_neighbors will be set to (n_samples - 1) for estimation.\n",
      "  % (self.n_neighbors, n_samples))\n"
     ]
    },
    {
     "name": "stdout",
     "output_type": "stream",
     "text": [
      "[ 1 -1]\n"
     ]
    }
   ],
   "source": [
    "import pandas as pd\n",
    "from timesmash import XHMMFeatures\n",
    "from sklearn.neighbors import LocalOutlierFactor\n",
    "\n",
    "channel1_train = pd.DataFrame([[0,1,0,1,0,1,0,1,0,1],[1,0,1,0,1,0,1,0,1,0]], index=['person_1', 'person_2'])\n",
    "channel2_train = pd.DataFrame([[0,1,0,1,0,1,0,1,0,1],[1,0,1,0,1,0,1,0,1,0]], index=['person_1', 'person_2'])\n",
    "labels = pd.DataFrame([1,1], index=['person_1', 'person_2'])\n",
    "    \n",
    "alg = XHMMFeatures(n_quantizations=1)\n",
    "features_train = alg.fit_transform([channel1_train,channel2_train], labels)\n",
    "    \n",
    "clf = LocalOutlierFactor(novelty=True)  \n",
    "clf.fit(features_train)\n",
    "        \n",
    "channel1_test = pd.DataFrame([[0,1,0,1,0,1,0,1,0,1],[1,0,1,0,1,0,1,0,1]], index=['person_test_1', 'person_test_2'])\n",
    "channel2_test= pd.DataFrame([[0,1,0,1,0,1,0,1,0,1],[0,1,0,1,0,1,0,1,0]], index=['person_test_1', 'person_test_2'])\n",
    "\n",
    "features_test = alg.transform([channel1_test,channel2_test])\n",
    "print(clf.predict(features_test))"
   ]
  },
  {
   "cell_type": "code",
   "execution_count": null,
   "metadata": {},
   "outputs": [],
   "source": []
  }
 ],
 "metadata": {
  "kernelspec": {
   "display_name": "Python 3",
   "language": "python",
   "name": "python3"
  },
  "language_info": {
   "codemirror_mode": {
    "name": "ipython",
    "version": 3
   },
   "file_extension": ".py",
   "mimetype": "text/x-python",
   "name": "python",
   "nbconvert_exporter": "python",
   "pygments_lexer": "ipython3",
   "version": "3.6.5"
  }
 },
 "nbformat": 4,
 "nbformat_minor": 5
}
