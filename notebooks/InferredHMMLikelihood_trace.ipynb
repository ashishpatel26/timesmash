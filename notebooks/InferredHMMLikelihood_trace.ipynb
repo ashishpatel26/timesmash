{
 "cells": [
  {
   "cell_type": "code",
   "execution_count": 1,
   "metadata": {},
   "outputs": [
    {
     "name": "stdout",
     "output_type": "stream",
     "text": [
      "random forest_score:\n",
      "0.98\n"
     ]
    },
    {
     "name": "stderr",
     "output_type": "stream",
     "text": [
      "<ipython-input-1-0c5f6c55a1cd>:24: DataConversionWarning: A column-vector y was passed when a 1d array was expected. Please change the shape of y to (n_samples,), for example using ravel().\n",
      "  clf.fit(train_feature,train_label)\n"
     ]
    }
   ],
   "source": [
    "import pandas as pd\n",
    "import sys\n",
    "import numpy as np\n",
    "from timesmash import InferredHMMLikelihood\n",
    "from sklearn.metrics import accuracy_score\n",
    "\n",
    "# reading Trace dataset\n",
    "train_path= './Trace/Trace_TRAIN.tsv'\n",
    "test_path= './Trace/Trace_TEST.tsv'\n",
    "train = pd.read_csv(train_path, header=None, delim_whitespace=True, na_values='NaN')\n",
    "test = pd.read_csv(test_path, header=None, delim_whitespace=True, na_values='NaN')\n",
    "\n",
    "train_label = pd.DataFrame(train[0].copy())\n",
    "del train[0]\n",
    "test_label = pd.DataFrame(test[0].copy())\n",
    "del test[0]\n",
    "\n",
    "#Finding HMM and computing log likelihood\n",
    "train_feature, test_feature=InferredHMMLikelihood().fit_transform(train=train, test=test, label=train_label)\n",
    "\n",
    "# Using log likelihood as feature for classification \n",
    "from sklearn.ensemble import RandomForestClassifier\n",
    "clf = RandomForestClassifier(random_state=1)\n",
    "clf.fit(train_feature,train_label)\n",
    "predicted_labels=clf.predict(test_feature)\n",
    "\n",
    "# computing accuracy score\n",
    "print(\"random forest_score:\")\n",
    "accur = accuracy_score(test_label, predicted_labels)\n",
    "print(accur)"
   ]
  },
  {
   "cell_type": "code",
   "execution_count": null,
   "metadata": {},
   "outputs": [],
   "source": []
  }
 ],
 "metadata": {
  "kernelspec": {
   "display_name": "Python 3",
   "language": "python",
   "name": "python3"
  },
  "language_info": {
   "codemirror_mode": {
    "name": "ipython",
    "version": 3
   },
   "file_extension": ".py",
   "mimetype": "text/x-python",
   "name": "python",
   "nbconvert_exporter": "python",
   "pygments_lexer": "ipython3",
   "version": "3.8.5"
  }
 },
 "nbformat": 4,
 "nbformat_minor": 2
}
