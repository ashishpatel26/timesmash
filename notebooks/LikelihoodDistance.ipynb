{
 "cells": [
  {
   "cell_type": "code",
   "execution_count": 2,
   "id": "located-possible",
   "metadata": {},
   "outputs": [
    {
     "name": "stdout",
     "output_type": "stream",
     "text": [
      "Clusters:  [0 1 0 1]\n"
     ]
    }
   ],
   "source": [
    "from timesmash import LikelihoodDistance\n",
    "from sklearn.cluster import KMeans\n",
    "\n",
    "#Creating data\n",
    "train = [[1, 0, 1, 0, 1, 0], [1, 1, 0, 1, 1, 0], [0, 1, 0, 1, 0, 1], [0, 1, 1, 0, 1, 1]]\n",
    "\n",
    "#Computing distance matrix with log likelihood difference as distance\n",
    "dist_calc = LikelihoodDistance(max_alphabet_size=2).fit(train)\n",
    "dist = dist_calc.produce()\n",
    "\n",
    "#using distance matrix in kmeans to compute labels\n",
    "from sklearn.cluster import KMeans\n",
    "clusters = KMeans(n_clusters = 2).fit(dist).labels_\n",
    "print(\"Clusters: \", clusters)"
   ]
  }
 ],
 "metadata": {
  "kernelspec": {
   "display_name": "Python 3",
   "language": "python",
   "name": "python3"
  },
  "language_info": {
   "codemirror_mode": {
    "name": "ipython",
    "version": 3
   },
   "file_extension": ".py",
   "mimetype": "text/x-python",
   "name": "python",
   "nbconvert_exporter": "python",
   "pygments_lexer": "ipython3",
   "version": "3.8.5"
  }
 },
 "nbformat": 4,
 "nbformat_minor": 5
}
