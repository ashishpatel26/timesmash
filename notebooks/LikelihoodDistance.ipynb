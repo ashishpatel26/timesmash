{
 "cells": [
  {
   "cell_type": "code",
   "execution_count": 5,
   "metadata": {},
   "outputs": [
    {
     "ename": "CalledProcessError",
     "evalue": "Command '/home/ishanu/.local/lib/python3.6/site-packages/timesmash/bin/lsmash -f ts_temp/clean_18133_53c0e0e1-d81e-46b3-bf05-5fa4c7b46f9b -u 1 -S 0 -D row  -T symbolic -o ts_temp/clean_18133_d428498b-6d99-4702-b75f-8aa810476966' died with <Signals.SIGSEGV: 11>.",
     "output_type": "error",
     "traceback": [
      "\u001b[0;31m---------------------------------------------------------------------------\u001b[0m",
      "\u001b[0;31mCalledProcessError\u001b[0m                        Traceback (most recent call last)",
      "\u001b[0;32m<ipython-input-5-8f9204412937>\u001b[0m in \u001b[0;36m<module>\u001b[0;34m\u001b[0m\n\u001b[1;32m      3\u001b[0m \u001b[0mtrain\u001b[0m \u001b[0;34m=\u001b[0m \u001b[0;34m[\u001b[0m\u001b[0;34m[\u001b[0m\u001b[0;36m1\u001b[0m\u001b[0;34m,\u001b[0m \u001b[0;36m0\u001b[0m\u001b[0;34m,\u001b[0m \u001b[0;36m1.1\u001b[0m\u001b[0;34m,\u001b[0m \u001b[0;36m0\u001b[0m\u001b[0;34m,\u001b[0m \u001b[0;36m11.2\u001b[0m\u001b[0;34m,\u001b[0m \u001b[0;36m0\u001b[0m\u001b[0;34m]\u001b[0m\u001b[0;34m,\u001b[0m \u001b[0;34m[\u001b[0m\u001b[0;36m1\u001b[0m\u001b[0;34m,\u001b[0m \u001b[0;36m1\u001b[0m\u001b[0;34m,\u001b[0m \u001b[0;36m0\u001b[0m\u001b[0;34m,\u001b[0m \u001b[0;36m1\u001b[0m\u001b[0;34m,\u001b[0m \u001b[0;36m1\u001b[0m\u001b[0;34m,\u001b[0m \u001b[0;36m0\u001b[0m\u001b[0;34m]\u001b[0m\u001b[0;34m,\u001b[0m \u001b[0;34m[\u001b[0m\u001b[0;36m0\u001b[0m\u001b[0;34m,\u001b[0m \u001b[0;36m0.9\u001b[0m\u001b[0;34m,\u001b[0m \u001b[0;36m0\u001b[0m\u001b[0;34m,\u001b[0m \u001b[0;36m1\u001b[0m\u001b[0;34m,\u001b[0m \u001b[0;36m0\u001b[0m\u001b[0;34m,\u001b[0m \u001b[0;36m1\u001b[0m\u001b[0;34m]\u001b[0m\u001b[0;34m,\u001b[0m \u001b[0;34m[\u001b[0m\u001b[0;36m0\u001b[0m\u001b[0;34m,\u001b[0m \u001b[0;36m1\u001b[0m\u001b[0;34m,\u001b[0m \u001b[0;36m1\u001b[0m\u001b[0;34m,\u001b[0m \u001b[0;36m0\u001b[0m\u001b[0;34m,\u001b[0m \u001b[0;36m1\u001b[0m\u001b[0;34m,\u001b[0m \u001b[0;36m1\u001b[0m\u001b[0;34m]\u001b[0m\u001b[0;34m]\u001b[0m\u001b[0;34m\u001b[0m\u001b[0m\n\u001b[1;32m      4\u001b[0m \u001b[0mdist_calc\u001b[0m \u001b[0;34m=\u001b[0m \u001b[0mLikelihoodDistance\u001b[0m\u001b[0;34m(\u001b[0m\u001b[0;34m)\u001b[0m\u001b[0;34m.\u001b[0m\u001b[0mfit\u001b[0m\u001b[0;34m(\u001b[0m\u001b[0mtrain\u001b[0m\u001b[0;34m)\u001b[0m\u001b[0;34m\u001b[0m\u001b[0m\n\u001b[0;32m----> 5\u001b[0;31m \u001b[0mdist\u001b[0m \u001b[0;34m=\u001b[0m \u001b[0mdist_calc\u001b[0m\u001b[0;34m.\u001b[0m\u001b[0mproduce\u001b[0m\u001b[0;34m(\u001b[0m\u001b[0;34m)\u001b[0m\u001b[0;34m\u001b[0m\u001b[0m\n\u001b[0m\u001b[1;32m      6\u001b[0m \u001b[0;32mfrom\u001b[0m \u001b[0msklearn\u001b[0m\u001b[0;34m.\u001b[0m\u001b[0mcluster\u001b[0m \u001b[0;32mimport\u001b[0m \u001b[0mKMeans\u001b[0m\u001b[0;34m\u001b[0m\u001b[0m\n\u001b[1;32m      7\u001b[0m \u001b[0mclusters\u001b[0m \u001b[0;34m=\u001b[0m \u001b[0mKMeans\u001b[0m\u001b[0;34m(\u001b[0m\u001b[0mn_clusters\u001b[0m \u001b[0;34m=\u001b[0m \u001b[0;36m2\u001b[0m\u001b[0;34m)\u001b[0m\u001b[0;34m.\u001b[0m\u001b[0mfit\u001b[0m\u001b[0;34m(\u001b[0m\u001b[0mdist\u001b[0m\u001b[0;34m)\u001b[0m\u001b[0;34m.\u001b[0m\u001b[0mlabels_\u001b[0m\u001b[0;34m\u001b[0m\u001b[0m\n",
      "\u001b[0;32m~/.local/lib/python3.6/site-packages/timesmash/distance.py\u001b[0m in \u001b[0;36mproduce\u001b[0;34m(self, test, average)\u001b[0m\n\u001b[1;32m     37\u001b[0m \u001b[0;34m\u001b[0m\u001b[0m\n\u001b[1;32m     38\u001b[0m             \u001b[0;32melse\u001b[0m\u001b[0;34m:\u001b[0m\u001b[0;34m\u001b[0m\u001b[0m\n\u001b[0;32m---> 39\u001b[0;31m                 \u001b[0mdistance_matrix\u001b[0m \u001b[0;34m=\u001b[0m \u001b[0mself\u001b[0m\u001b[0;34m.\u001b[0m\u001b[0mget_distance\u001b[0m\u001b[0;34m(\u001b[0m\u001b[0mnext\u001b[0m\u001b[0;34m(\u001b[0m\u001b[0mself\u001b[0m\u001b[0;34m.\u001b[0m\u001b[0mtrain_quatized\u001b[0m\u001b[0;34m)\u001b[0m\u001b[0;34m)\u001b[0m\u001b[0;34m\u001b[0m\u001b[0m\n\u001b[0m\u001b[1;32m     40\u001b[0m \u001b[0;34m\u001b[0m\u001b[0m\n\u001b[1;32m     41\u001b[0m             \u001b[0;32mif\u001b[0m \u001b[0mdistance_matrix\u001b[0m \u001b[0;32mis\u001b[0m \u001b[0;32mnot\u001b[0m \u001b[0;32mNone\u001b[0m\u001b[0;34m:\u001b[0m\u001b[0;34m\u001b[0m\u001b[0m\n",
      "\u001b[0;32m~/.local/lib/python3.6/site-packages/timesmash/distance.py\u001b[0m in \u001b[0;36mget_distance\u001b[0;34m(self, dataframe)\u001b[0m\n\u001b[1;32m     65\u001b[0m \u001b[0;32mclass\u001b[0m \u001b[0mLikelihoodDistance\u001b[0m\u001b[0;34m(\u001b[0m\u001b[0m_Distance\u001b[0m\u001b[0;34m)\u001b[0m\u001b[0;34m:\u001b[0m\u001b[0;34m\u001b[0m\u001b[0m\n\u001b[1;32m     66\u001b[0m     \u001b[0;32mdef\u001b[0m \u001b[0mget_distance\u001b[0m\u001b[0;34m(\u001b[0m\u001b[0mself\u001b[0m\u001b[0;34m,\u001b[0m \u001b[0mdataframe\u001b[0m\u001b[0;34m)\u001b[0m\u001b[0;34m:\u001b[0m\u001b[0;34m\u001b[0m\u001b[0m\n\u001b[0;32m---> 67\u001b[0;31m         \u001b[0;32mreturn\u001b[0m \u001b[0m_lsmash\u001b[0m\u001b[0;34m(\u001b[0m\u001b[0mdataframe\u001b[0m\u001b[0;34m,\u001b[0m \u001b[0mclean\u001b[0m\u001b[0;34m=\u001b[0m\u001b[0mself\u001b[0m\u001b[0;34m.\u001b[0m\u001b[0m_clean\u001b[0m\u001b[0;34m)\u001b[0m\u001b[0;34m\u001b[0m\u001b[0m\n\u001b[0m",
      "\u001b[0;32m~/.local/lib/python3.6/site-packages/timesmash/utils.py\u001b[0m in \u001b[0;36m_lsmash\u001b[0;34m(data, data_file, distance_file, clean)\u001b[0m\n\u001b[1;32m    531\u001b[0m         \u001b[0;34m+\u001b[0m \u001b[0;34m\" -T symbolic -o \"\u001b[0m\u001b[0;34m\u001b[0m\u001b[0m\n\u001b[1;32m    532\u001b[0m         \u001b[0;34m+\u001b[0m \u001b[0mdistance_file\u001b[0m\u001b[0;34m,\u001b[0m\u001b[0;34m\u001b[0m\u001b[0m\n\u001b[0;32m--> 533\u001b[0;31m         \u001b[0mshell\u001b[0m\u001b[0;34m=\u001b[0m\u001b[0;32mTrue\u001b[0m\u001b[0;34m,\u001b[0m\u001b[0;34m\u001b[0m\u001b[0m\n\u001b[0m\u001b[1;32m    534\u001b[0m     )\n\u001b[1;32m    535\u001b[0m     \u001b[0mdist\u001b[0m \u001b[0;34m=\u001b[0m \u001b[0mpd\u001b[0m\u001b[0;34m.\u001b[0m\u001b[0mread_csv\u001b[0m\u001b[0;34m(\u001b[0m\u001b[0mdistance_file\u001b[0m\u001b[0;34m,\u001b[0m \u001b[0msep\u001b[0m\u001b[0;34m=\u001b[0m\u001b[0;34m\" \"\u001b[0m\u001b[0;34m,\u001b[0m \u001b[0mheader\u001b[0m\u001b[0;34m=\u001b[0m\u001b[0;32mNone\u001b[0m\u001b[0;34m)\u001b[0m\u001b[0;34m.\u001b[0m\u001b[0mdropna\u001b[0m\u001b[0;34m(\u001b[0m\u001b[0mhow\u001b[0m\u001b[0;34m=\u001b[0m\u001b[0;34m\"all\"\u001b[0m\u001b[0;34m,\u001b[0m \u001b[0maxis\u001b[0m\u001b[0;34m=\u001b[0m\u001b[0;36m1\u001b[0m\u001b[0;34m)\u001b[0m\u001b[0;34m\u001b[0m\u001b[0m\n",
      "\u001b[0;32m/usr/lib64/python3.6/subprocess.py\u001b[0m in \u001b[0;36mcheck_output\u001b[0;34m(timeout, *popenargs, **kwargs)\u001b[0m\n\u001b[1;32m    334\u001b[0m \u001b[0;34m\u001b[0m\u001b[0m\n\u001b[1;32m    335\u001b[0m     return run(*popenargs, stdout=PIPE, timeout=timeout, check=True,\n\u001b[0;32m--> 336\u001b[0;31m                **kwargs).stdout\n\u001b[0m\u001b[1;32m    337\u001b[0m \u001b[0;34m\u001b[0m\u001b[0m\n\u001b[1;32m    338\u001b[0m \u001b[0;34m\u001b[0m\u001b[0m\n",
      "\u001b[0;32m/usr/lib64/python3.6/subprocess.py\u001b[0m in \u001b[0;36mrun\u001b[0;34m(input, timeout, check, *popenargs, **kwargs)\u001b[0m\n\u001b[1;32m    416\u001b[0m         \u001b[0;32mif\u001b[0m \u001b[0mcheck\u001b[0m \u001b[0;32mand\u001b[0m \u001b[0mretcode\u001b[0m\u001b[0;34m:\u001b[0m\u001b[0;34m\u001b[0m\u001b[0m\n\u001b[1;32m    417\u001b[0m             raise CalledProcessError(retcode, process.args,\n\u001b[0;32m--> 418\u001b[0;31m                                      output=stdout, stderr=stderr)\n\u001b[0m\u001b[1;32m    419\u001b[0m     \u001b[0;32mreturn\u001b[0m \u001b[0mCompletedProcess\u001b[0m\u001b[0;34m(\u001b[0m\u001b[0mprocess\u001b[0m\u001b[0;34m.\u001b[0m\u001b[0margs\u001b[0m\u001b[0;34m,\u001b[0m \u001b[0mretcode\u001b[0m\u001b[0;34m,\u001b[0m \u001b[0mstdout\u001b[0m\u001b[0;34m,\u001b[0m \u001b[0mstderr\u001b[0m\u001b[0;34m)\u001b[0m\u001b[0;34m\u001b[0m\u001b[0m\n\u001b[1;32m    420\u001b[0m \u001b[0;34m\u001b[0m\u001b[0m\n",
      "\u001b[0;31mCalledProcessError\u001b[0m: Command '/home/ishanu/.local/lib/python3.6/site-packages/timesmash/bin/lsmash -f ts_temp/clean_18133_53c0e0e1-d81e-46b3-bf05-5fa4c7b46f9b -u 1 -S 0 -D row  -T symbolic -o ts_temp/clean_18133_d428498b-6d99-4702-b75f-8aa810476966' died with <Signals.SIGSEGV: 11>."
     ]
    }
   ],
   "source": [
    "from timesmash import LikelihoodDistance\n",
    "from sklearn.cluster import KMeans\n",
    "train = [[1, 0, 1.1, 0, 11.2, 0], [1, 1, 0, 1, 1, 0], [0, 0.9, 0, 1, 0, 1], [0, 1, 1, 0, 1, 1]]\n",
    "dist_calc = LikelihoodDistance().fit(train)\n",
    "dist = dist_calc.produce()\n",
    "from sklearn.cluster import KMeans\n",
    "clusters = KMeans(n_clusters = 2).fit(dist).labels_\n",
    "print(\"Clusters: \",clusters)"
   ]
  },
  {
   "cell_type": "code",
   "execution_count": 4,
   "metadata": {},
   "outputs": [
    {
     "name": "stdout",
     "output_type": "stream",
     "text": [
      "Collecting timesmash\n",
      "  Downloading https://files.pythonhosted.org/packages/46/fa/1dda8be6871c864b4c0ad49319f9903be9d6fa38f44f2dd65c378ffe1004/timesmash-0.2.17.tar.gz (32.8MB)\n",
      "\u001b[K    100% |████████████████████████████████| 32.8MB 49kB/s eta 0:00:011\n",
      "\u001b[?25hRequirement already satisfied: pandas in /home/ishanu/.local/lib/python3.6/site-packages (from timesmash)\n",
      "Requirement already satisfied: numpy in /home/ishanu/.local/lib/python3.6/site-packages (from timesmash)\n",
      "Requirement already satisfied: scikit-learn in /home/ishanu/.local/lib/python3.6/site-packages (from timesmash)\n",
      "Requirement already satisfied: python-dateutil>=2.6.1 in /home/ishanu/.local/lib/python3.6/site-packages (from pandas->timesmash)\n",
      "Requirement already satisfied: pytz>=2017.2 in /home/ishanu/.local/lib/python3.6/site-packages (from pandas->timesmash)\n",
      "Requirement already satisfied: threadpoolctl>=2.0.0 in /usr/lib/python3.6/site-packages (from scikit-learn->timesmash)\n",
      "Requirement already satisfied: joblib>=0.11 in /home/ishanu/.local/lib/python3.6/site-packages (from scikit-learn->timesmash)\n",
      "Requirement already satisfied: scipy>=0.19.1 in /home/ishanu/.local/lib/python3.6/site-packages (from scikit-learn->timesmash)\n",
      "Requirement already satisfied: six>=1.5 in /home/ishanu/.local/lib/python3.6/site-packages (from python-dateutil>=2.6.1->pandas->timesmash)\n",
      "Building wheels for collected packages: timesmash\n",
      "  Running setup.py bdist_wheel for timesmash ... \u001b[?25ldone\n",
      "\u001b[?25h  Stored in directory: /home/ishanu/.cache/pip/wheels/d1/b4/ca/1fd4e266ddc2a75797aa7362aa421ba55b4d48617464c3c9e5\n",
      "Successfully built timesmash\n",
      "Installing collected packages: timesmash\n",
      "Successfully installed timesmash-0.2.19\n"
     ]
    }
   ],
   "source": [
    "!pip3 install timesmash --user\n"
   ]
  },
  {
   "cell_type": "code",
   "execution_count": 6,
   "metadata": {},
   "outputs": [
    {
     "name": "stdout",
     "output_type": "stream",
     "text": [
      "### Loglikelihood zed.uchicago.edu 2018 ###\r\n",
      "--------------------------\r\n",
      "Example Usage:\r\n",
      "../bin/lsmash -f seq.dat\r\n",
      "../bin/lsmash -f seq.dat -x 100 (restrict length of data read)\r\n",
      "../bin/lsmash -f seq.dat -x 100 -o L.dst (specify output file)\r\n",
      "../bin/lsmash -F S2.cfg M2.cfg T3.cfg -f seq.dat -x 100 (specify PFSA projectors)\r\n",
      " Usage:\r\n",
      "  -h [ --help ]               print help message.\r\n",
      "  -V [ --version ]            print version number\r\n",
      "  -f [ --seq ] arg            input sequence file\r\n",
      "  -D [ --datadir ] arg        data direction: row or column [row]\r\n",
      "  -T [ --datatype ] arg       data type: continous or symbolic\r\n",
      "  -x [ --datalen ] arg        length max for input sequence [10000000]\r\n",
      "  -P [ --partition ] arg      partition\r\n",
      "  -u [ --use_derivative ] arg use derivative [false]\r\n",
      "  -F [ --pfsafile ] arg       pfsa files\r\n",
      "  -t [ --timer ] arg          display timer [0 (false)] \r\n",
      "  -S [ --sae ] arg            use data smash for sae [1 (true)] \r\n",
      "  -n [ --numrepeat ] arg      repeat for sae [20] \r\n",
      "  -o [ --dfile ] arg          output file [L.dst]\r\n",
      "  -R [ --randomproj ] arg     no. of random machines to use [0]\r\n",
      "  -m [ --machines ] arg       print PFSAs used [off]\r\n",
      "\r\n"
     ]
    }
   ],
   "source": [
    "! /home/ishanu/.local/lib/python3.6/site-packages/timesmash/bin/lsmash -h"
   ]
  },
  {
   "cell_type": "code",
   "execution_count": null,
   "metadata": {},
   "outputs": [],
   "source": []
  }
 ],
 "metadata": {
  "kernelspec": {
   "display_name": "Python 3",
   "language": "python",
   "name": "python3"
  },
  "language_info": {
   "codemirror_mode": {
    "name": "ipython",
    "version": 3
   },
   "file_extension": ".py",
   "mimetype": "text/x-python",
   "name": "python",
   "nbconvert_exporter": "python",
   "pygments_lexer": "ipython3",
   "version": "3.6.5"
  }
 },
 "nbformat": 4,
 "nbformat_minor": 5
}
