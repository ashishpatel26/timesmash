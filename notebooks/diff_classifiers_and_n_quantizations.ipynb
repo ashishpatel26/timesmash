{
 "cells": [
  {
   "cell_type": "code",
   "execution_count": 3,
   "id": "separated-livestock",
   "metadata": {},
   "outputs": [
    {
     "name": "stdout",
     "output_type": "stream",
     "text": [
      "Predicted label:  [1]\n",
      "Predicted label:  [1]\n",
      "Predicted label:  [0]\n",
      "Predicted label:  [1]\n",
      "Predicted label:  [1]\n",
      "Predicted label:  [1]\n",
      "Predicted label:  [1]\n",
      "Predicted label:  [1]\n",
      "Predicted label:  [0]\n"
     ]
    }
   ],
   "source": [
    "from timesmash import InferredHMMLikelihood\n",
    "from sklearn.ensemble import RandomForestClassifier\n",
    "from sklearn.svm import SVC\n",
    "from sklearn.ensemble import AdaBoostClassifier\n",
    "\n",
    "#Creating data\n",
    "train = [[1, 0, 1, 0, 1, 0], [1, 1, 0, 1, 1, 0]]\n",
    "train_label = [0, 1]\n",
    "test = [[0, 1, 1, 0, 1, 1]]\n",
    "\n",
    "#Finding HMM and computing log likelihood\n",
    "for nq in [10,15,30]:\n",
    "    for clf in [RandomForestClassifier(), SVC(), AdaBoostClassifier()]:\n",
    "        train_features, test_features = InferredHMMLikelihood(n_quantizations = nq).fit_transform(\n",
    "            train=train, test=test, label=train_label\n",
    "        )\n",
    "        clf.fit(train_features,train_label)\n",
    "        # Using log likelihood as feature for classification \n",
    "        label = clf.predict(test_features)\n",
    "        print(\"Predicted label: \", label)"
   ]
  },
  {
   "cell_type": "code",
   "execution_count": null,
   "id": "combined-strike",
   "metadata": {},
   "outputs": [],
   "source": []
  }
 ],
 "metadata": {
  "kernelspec": {
   "display_name": "Python 3",
   "language": "python",
   "name": "python3"
  },
  "language_info": {
   "codemirror_mode": {
    "name": "ipython",
    "version": 3
   },
   "file_extension": ".py",
   "mimetype": "text/x-python",
   "name": "python",
   "nbconvert_exporter": "python",
   "pygments_lexer": "ipython3",
   "version": "3.8.5"
  }
 },
 "nbformat": 4,
 "nbformat_minor": 5
}
