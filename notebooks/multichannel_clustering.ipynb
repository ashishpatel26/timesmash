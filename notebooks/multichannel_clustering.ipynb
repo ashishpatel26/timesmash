{
 "cells": [
  {
   "cell_type": "code",
   "execution_count": 2,
   "id": "respective-profession",
   "metadata": {},
   "outputs": [
    {
     "name": "stdout",
     "output_type": "stream",
     "text": [
      "          0\n",
      "person_1  0\n",
      "person_2  1\n",
      "person_3  0\n",
      "person_4  1\n"
     ]
    }
   ],
   "source": [
    "import pandas as pd\n",
    "from timesmash import XHMMClustering\n",
    "\n",
    "# make data\n",
    "channel1 = pd.DataFrame(\n",
    "    [\n",
    "        [0, 1, 0, 1, 0, 1, 0, 1, 0, 1],\n",
    "        [1, 0, 1, 0, 1, 0, 1, 0, 1, 0],\n",
    "        [1, 0, 1, 0, 1, 0, 1, 0, 1, 0],\n",
    "        [0, 1, 0, 1, 0, 1, 0, 1, 0, 1],\n",
    "    ],\n",
    "    index=[\"person_1\", \"person_2\", \"person_3\", \"person_4\"],\n",
    ")\n",
    "channel2 = pd.DataFrame(\n",
    "    [\n",
    "        [1, 0, 1, 0, 1, 0, 1, 0, 1, 0],\n",
    "        [1, 0, 1, 0, 1, 0, 1, 0, 1, 0],\n",
    "        [0, 1, 0, 1, 0, 1, 0, 1, 0, 1],\n",
    "        [0, 1, 0, 1, 0, 1, 0, 1, 0, 1],\n",
    "    ],\n",
    "    index=[\"person_1\", \"person_2\", \"person_3\", \"person_4\"],\n",
    ")\n",
    "\n",
    "#cluster\n",
    "alg = XHMMClustering(n_quantizations=1).fit(\n",
    "    [channel1, channel2]\n",
    ")\n",
    "\n",
    "#get clusters\n",
    "clusters = alg.labels_\n",
    "print(clusters)"
   ]
  },
  {
   "cell_type": "code",
   "execution_count": null,
   "id": "contemporary-athens",
   "metadata": {},
   "outputs": [],
   "source": []
  }
 ],
 "metadata": {
  "kernelspec": {
   "display_name": "Python 3",
   "language": "python",
   "name": "python3"
  },
  "language_info": {
   "codemirror_mode": {
    "name": "ipython",
    "version": 3
   },
   "file_extension": ".py",
   "mimetype": "text/x-python",
   "name": "python",
   "nbconvert_exporter": "python",
   "pygments_lexer": "ipython3",
   "version": "3.8.5"
  }
 },
 "nbformat": 4,
 "nbformat_minor": 5
}
