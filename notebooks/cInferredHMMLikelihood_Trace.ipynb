{
 "cells": [
  {
   "cell_type": "code",
   "execution_count": 1,
   "metadata": {},
   "outputs": [
    {
     "name": "stdout",
     "output_type": "stream",
     "text": [
      "random forest_score: 0.91\n"
     ]
    }
   ],
   "source": [
    "#!/usr/bin/env python3\n",
    "import pandas as pd\n",
    "import sys\n",
    "sys.path.append('../')\n",
    "import numpy as np\n",
    "from sklearn.ensemble import RandomForestClassifier\n",
    "from timesmash import InferredHMMLikelihood, LikelihoodDistance, Quantizer\n",
    "from sklearn.cluster import KMeans\n",
    "from sklearn.metrics import accuracy_score\n",
    "\n",
    "np.random.seed(4)\n",
    "train_path= './Trace/Trace_TRAIN.tsv'\n",
    "test_path= './Trace/Trace_TEST.tsv'\n",
    "train = pd.read_csv(train_path, header=None, delim_whitespace=True, na_values='NaN')\n",
    "test = pd.read_csv(test_path, header=None, delim_whitespace=True, na_values='NaN')\n",
    "\n",
    "train_label = pd.DataFrame(train[0].copy())\n",
    "del train[0]\n",
    "test_label = pd.DataFrame(test[0].copy())\n",
    "del test[0]\n",
    "\n",
    "_qtz = Quantizer(n_quantizations=1)\n",
    "_qtz.fit(train,label=train_label)\n",
    "y_train = train_label.copy()\n",
    "X_train=train.copy()\n",
    "y_train_new = train_label.copy()\n",
    "for label, dataframe in y_train.groupby(y_train.columns[0]):\n",
    "    clast = LikelihoodDistance(quantizer=_qtz)\n",
    "    clast.fit(X_train.loc[dataframe.index])\n",
    "    dist = clast.produce()\n",
    "    kmeans = KMeans(n_clusters = 2, random_state=0).fit(dist)\n",
    "    clasters = kmeans.labels_\n",
    "    new_l = [str(label)+'_'+str(i) for i in clasters]\n",
    "    y_train_new.loc[dataframe.index, y_train_new.columns[0]] = new_l\n",
    "    \n",
    "clast = InferredHMMLikelihood(quantizer=_qtz, epsilon = 0.01)\n",
    "train_feature, test_feature=clast.fit_transform(train = X_train, test = test, label=y_train_new)\n",
    "clf = RandomForestClassifier(random_state=1).fit(train_feature,train_label.values.ravel())\n",
    "\n",
    "accur = accuracy_score(test_label, clf.predict(test_feature))\n",
    "print(\"random forest_score:\", accur)"
   ]
  },
  {
   "cell_type": "code",
   "execution_count": null,
   "metadata": {},
   "outputs": [],
   "source": []
  }
 ],
 "metadata": {
  "kernelspec": {
   "display_name": "Python 3",
   "language": "python",
   "name": "python3"
  },
  "language_info": {
   "codemirror_mode": {
    "name": "ipython",
    "version": 3
   },
   "file_extension": ".py",
   "mimetype": "text/x-python",
   "name": "python",
   "nbconvert_exporter": "python",
   "pygments_lexer": "ipython3",
   "version": "3.6.5"
  }
 },
 "nbformat": 4,
 "nbformat_minor": 2
}
