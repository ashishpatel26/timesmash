{
 "cells": [
  {
   "cell_type": "code",
   "execution_count": 28,
   "id": "authorized-mechanism",
   "metadata": {},
   "outputs": [
    {
     "name": "stdout",
     "output_type": "stream",
     "text": [
      "Predicted label:  [0]\n"
     ]
    }
   ],
   "source": [
    "from timesmash import InferredHMMLikelihood\n",
    "from sklearn.ensemble import RandomForestClassifier\n",
    "\n",
    "#Creating data\n",
    "train = [[1, 0, 1, 0, 1, 0, 1, 0, 1, 0, 1, 0, 1, 0, 1, 0, 1, 0], \n",
    "         [1, 1, 0, 1, 1, 0, 1, 1, 0, 1, 1, 0, 1, 1, 0, 1, 1]]\n",
    "train_label = [0, 1]\n",
    "test = [[0, 1, 0, 1, 0, 1, 0, 1]]\n",
    "\n",
    "#Finding HMM and computing log likelihood\n",
    "alg = InferredHMMLikelihood().fit(train=train,label=train_label)\n",
    "train_features = alg.transform(train)\n",
    "test_features = alg.transform(test)\n",
    "\n",
    "# Using log likelihood as feature for classification \n",
    "clf = RandomForestClassifier().fit(train_features, train_label)\n",
    "label = clf.predict(test_features)\n",
    "print(\"Predicted label: \", label)"
   ]
  }
 ],
 "metadata": {
  "kernelspec": {
   "display_name": "Python 3",
   "language": "python",
   "name": "python3"
  },
  "language_info": {
   "codemirror_mode": {
    "name": "ipython",
    "version": 3
   },
   "file_extension": ".py",
   "mimetype": "text/x-python",
   "name": "python",
   "nbconvert_exporter": "python",
   "pygments_lexer": "ipython3",
   "version": "3.8.5"
  }
 },
 "nbformat": 4,
 "nbformat_minor": 5
}
