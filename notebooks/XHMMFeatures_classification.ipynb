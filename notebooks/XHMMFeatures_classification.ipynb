{
 "cells": [
  {
   "cell_type": "code",
   "execution_count": null,
   "id": "constitutional-inspiration",
   "metadata": {},
   "outputs": [],
   "source": [
    "import pandas as pd\n",
    "from timesmash import XHMMFeatures\n",
    "from sklearn.ensemble import RandomForestClassifier\n",
    "\n",
    "# creating multichannel data\n",
    "d1_train = pd.DataFrame([[0,1,0,1,0,1,0,1,0,1],[1,0,1,0,1,0,1,0,1,0]], index=['person_1', 'person_2'])\n",
    "d2_train = pd.DataFrame([[1,0,1,0,1,0,1,0,1,0],[1,0,1,0,1,0,1,0,1,0]], index=['person_1', 'person_2'])\n",
    "labels = pd.DataFrame([0,1], index=['person_1', 'person_2'])\n",
    "\n",
    "# transforming multi channel time series into features\n",
    "alg = XHMMFeatures(n_quantizations=1)\n",
    "features_train = alg.fit_transform([d1_train,d2_train], labels)\n",
    "\n",
    "# using features for classification \n",
    "clf = RandomForestClassifier()  \n",
    "clf.fit(features_train, labels)\n",
    "        \n",
    "d1_test = pd.DataFrame([[1,0,1,0,1,0,1,0,1]], index=['person_test'])\n",
    "d2_test= pd.DataFrame([[0,1,0,1,0,1,0,1,0]], index=['person_test'])\n",
    "\n",
    "features_test = alg.transform([d1_test,d2_test])\n",
    "    \n",
    "print(clf.predict(features_test))"
   ]
  }
 ],
 "metadata": {
  "kernelspec": {
   "display_name": "Python 3",
   "language": "python",
   "name": "python3"
  },
  "language_info": {
   "codemirror_mode": {
    "name": "ipython",
    "version": 3
   },
   "file_extension": ".py",
   "mimetype": "text/x-python",
   "name": "python",
   "nbconvert_exporter": "python",
   "pygments_lexer": "ipython3",
   "version": "3.8.5"
  }
 },
 "nbformat": 4,
 "nbformat_minor": 5
}
